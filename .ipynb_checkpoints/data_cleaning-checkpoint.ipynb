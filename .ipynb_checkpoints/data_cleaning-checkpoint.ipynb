{
 "cells": [
  {
   "cell_type": "code",
   "execution_count": 29,
   "id": "a1d6725b-46ae-4a96-a335-617e3ceba231",
   "metadata": {},
   "outputs": [],
   "source": [
    "import pandas as pd"
   ]
  },
  {
   "cell_type": "code",
   "execution_count": 31,
   "id": "dd47dfef-7fed-4d90-af9d-50c33d879cdb",
   "metadata": {},
   "outputs": [],
   "source": [
    "df = pd.read_csv('comments_and_ratings.csv')"
   ]
  },
  {
   "cell_type": "code",
   "execution_count": 33,
   "id": "bfd01db5-8b78-4e10-9083-bb559ee20933",
   "metadata": {},
   "outputs": [
    {
     "name": "stdout",
     "output_type": "stream",
     "text": [
      "                       Comment  Rating\n",
      "0                          NaN     5.0\n",
      "1                 商品正確、出貨快速、謝謝     5.0\n",
      "2                 很棒棒棒棒棒棒棒棒棒棒棒     4.5\n",
      "3                 商品出貨速度快，包裝完整     5.0\n",
      "4  氣炸鍋贈送的盤子三個，我還沒收到請你們立刻配送給我謝謝     5.0\n",
      "             Rating\n",
      "count  16855.000000\n",
      "mean       4.801721\n",
      "std        0.546909\n",
      "min        1.000000\n",
      "25%        5.000000\n",
      "50%        5.000000\n",
      "75%        5.000000\n",
      "max        5.000000\n"
     ]
    }
   ],
   "source": [
    "# Check the first few rows\n",
    "print(df.head())\n",
    "\n",
    "# Summary statistics\n",
    "print(df.describe())"
   ]
  },
  {
   "cell_type": "code",
   "execution_count": 35,
   "id": "e0bb4744-c96f-4dd3-af9e-b30ba4421619",
   "metadata": {},
   "outputs": [],
   "source": [
    "# Drop rows with any missing values\n",
    "df = df.dropna()"
   ]
  },
  {
   "cell_type": "code",
   "execution_count": 37,
   "id": "108db5ff-c407-4b4c-8595-8475df03c741",
   "metadata": {},
   "outputs": [
    {
     "data": {
      "text/html": [
       "<div>\n",
       "<style scoped>\n",
       "    .dataframe tbody tr th:only-of-type {\n",
       "        vertical-align: middle;\n",
       "    }\n",
       "\n",
       "    .dataframe tbody tr th {\n",
       "        vertical-align: top;\n",
       "    }\n",
       "\n",
       "    .dataframe thead th {\n",
       "        text-align: right;\n",
       "    }\n",
       "</style>\n",
       "<table border=\"1\" class=\"dataframe\">\n",
       "  <thead>\n",
       "    <tr style=\"text-align: right;\">\n",
       "      <th></th>\n",
       "      <th>Comment</th>\n",
       "      <th>Rating</th>\n",
       "      <th>rounded_rating</th>\n",
       "    </tr>\n",
       "  </thead>\n",
       "  <tbody>\n",
       "    <tr>\n",
       "      <th>1</th>\n",
       "      <td>商品正確、出貨快速、謝謝</td>\n",
       "      <td>5.0</td>\n",
       "      <td>5.0</td>\n",
       "    </tr>\n",
       "    <tr>\n",
       "      <th>2</th>\n",
       "      <td>很棒棒棒棒棒棒棒棒棒棒棒</td>\n",
       "      <td>4.5</td>\n",
       "      <td>4.0</td>\n",
       "    </tr>\n",
       "    <tr>\n",
       "      <th>3</th>\n",
       "      <td>商品出貨速度快，包裝完整</td>\n",
       "      <td>5.0</td>\n",
       "      <td>5.0</td>\n",
       "    </tr>\n",
       "    <tr>\n",
       "      <th>4</th>\n",
       "      <td>氣炸鍋贈送的盤子三個，我還沒收到請你們立刻配送給我謝謝</td>\n",
       "      <td>5.0</td>\n",
       "      <td>5.0</td>\n",
       "    </tr>\n",
       "    <tr>\n",
       "      <th>5</th>\n",
       "      <td>出貨速度快，商品無誤，包裝完整！下次有需要會再繼續回購，謝謝！</td>\n",
       "      <td>5.0</td>\n",
       "      <td>5.0</td>\n",
       "    </tr>\n",
       "    <tr>\n",
       "      <th>...</th>\n",
       "      <td>...</td>\n",
       "      <td>...</td>\n",
       "      <td>...</td>\n",
       "    </tr>\n",
       "    <tr>\n",
       "      <th>16850</th>\n",
       "      <td>內裡有污漬瑕疵，已申請退貨</td>\n",
       "      <td>3.3</td>\n",
       "      <td>3.0</td>\n",
       "    </tr>\n",
       "    <tr>\n",
       "      <th>16851</th>\n",
       "      <td>也許是成份的因素吧？襪子外觀看起來毛很多。白襪還有兩條粗藍線，與圖片差很多；另外，其中一隻藍...</td>\n",
       "      <td>2.3</td>\n",
       "      <td>2.0</td>\n",
       "    </tr>\n",
       "    <tr>\n",
       "      <th>16852</th>\n",
       "      <td>鞋舌很大，不太習慣，穿起來有高個3公分，包覆感要鞋孔全穿才好一點，鞋帶不容易拉緊，鞋底支撐性...</td>\n",
       "      <td>3.3</td>\n",
       "      <td>3.0</td>\n",
       "    </tr>\n",
       "    <tr>\n",
       "      <th>16853</th>\n",
       "      <td>買貴了，昨天收到，今天就看到降價了，太誇張</td>\n",
       "      <td>4.0</td>\n",
       "      <td>4.0</td>\n",
       "    </tr>\n",
       "    <tr>\n",
       "      <th>16854</th>\n",
       "      <td>襪子材質很薄不是棉質料，很像絲襪般，但是不吸汗，穿着運動不適合</td>\n",
       "      <td>3.7</td>\n",
       "      <td>4.0</td>\n",
       "    </tr>\n",
       "  </tbody>\n",
       "</table>\n",
       "<p>16835 rows × 3 columns</p>\n",
       "</div>"
      ],
      "text/plain": [
       "                                                 Comment  Rating  \\\n",
       "1                                           商品正確、出貨快速、謝謝     5.0   \n",
       "2                                           很棒棒棒棒棒棒棒棒棒棒棒     4.5   \n",
       "3                                           商品出貨速度快，包裝完整     5.0   \n",
       "4                            氣炸鍋贈送的盤子三個，我還沒收到請你們立刻配送給我謝謝     5.0   \n",
       "5                        出貨速度快，商品無誤，包裝完整！下次有需要會再繼續回購，謝謝！     5.0   \n",
       "...                                                  ...     ...   \n",
       "16850                                      內裡有污漬瑕疵，已申請退貨     3.3   \n",
       "16851  也許是成份的因素吧？襪子外觀看起來毛很多。白襪還有兩條粗藍線，與圖片差很多；另外，其中一隻藍...     2.3   \n",
       "16852  鞋舌很大，不太習慣，穿起來有高個3公分，包覆感要鞋孔全穿才好一點，鞋帶不容易拉緊，鞋底支撐性...     3.3   \n",
       "16853                              買貴了，昨天收到，今天就看到降價了，太誇張     4.0   \n",
       "16854                    襪子材質很薄不是棉質料，很像絲襪般，但是不吸汗，穿着運動不適合     3.7   \n",
       "\n",
       "       rounded_rating  \n",
       "1                 5.0  \n",
       "2                 4.0  \n",
       "3                 5.0  \n",
       "4                 5.0  \n",
       "5                 5.0  \n",
       "...               ...  \n",
       "16850             3.0  \n",
       "16851             2.0  \n",
       "16852             3.0  \n",
       "16853             4.0  \n",
       "16854             4.0  \n",
       "\n",
       "[16835 rows x 3 columns]"
      ]
     },
     "execution_count": 37,
     "metadata": {},
     "output_type": "execute_result"
    }
   ],
   "source": [
    "df['rounded_rating'] = df['Rating'].round()\n",
    "df"
   ]
  },
  {
   "cell_type": "code",
   "execution_count": 39,
   "id": "366f5830-70ca-4367-8c1e-b9055302034c",
   "metadata": {},
   "outputs": [
    {
     "data": {
      "text/html": [
       "<div>\n",
       "<style scoped>\n",
       "    .dataframe tbody tr th:only-of-type {\n",
       "        vertical-align: middle;\n",
       "    }\n",
       "\n",
       "    .dataframe tbody tr th {\n",
       "        vertical-align: top;\n",
       "    }\n",
       "\n",
       "    .dataframe thead th {\n",
       "        text-align: right;\n",
       "    }\n",
       "</style>\n",
       "<table border=\"1\" class=\"dataframe\">\n",
       "  <thead>\n",
       "    <tr style=\"text-align: right;\">\n",
       "      <th></th>\n",
       "      <th>Comment</th>\n",
       "      <th>rounded_rating</th>\n",
       "    </tr>\n",
       "  </thead>\n",
       "  <tbody>\n",
       "    <tr>\n",
       "      <th>1</th>\n",
       "      <td>商品正確、出貨快速、謝謝</td>\n",
       "      <td>5.0</td>\n",
       "    </tr>\n",
       "    <tr>\n",
       "      <th>2</th>\n",
       "      <td>很棒棒棒棒棒棒棒棒棒棒棒</td>\n",
       "      <td>4.0</td>\n",
       "    </tr>\n",
       "    <tr>\n",
       "      <th>3</th>\n",
       "      <td>商品出貨速度快，包裝完整</td>\n",
       "      <td>5.0</td>\n",
       "    </tr>\n",
       "    <tr>\n",
       "      <th>4</th>\n",
       "      <td>氣炸鍋贈送的盤子三個，我還沒收到請你們立刻配送給我謝謝</td>\n",
       "      <td>5.0</td>\n",
       "    </tr>\n",
       "    <tr>\n",
       "      <th>5</th>\n",
       "      <td>出貨速度快，商品無誤，包裝完整！下次有需要會再繼續回購，謝謝！</td>\n",
       "      <td>5.0</td>\n",
       "    </tr>\n",
       "    <tr>\n",
       "      <th>...</th>\n",
       "      <td>...</td>\n",
       "      <td>...</td>\n",
       "    </tr>\n",
       "    <tr>\n",
       "      <th>16850</th>\n",
       "      <td>內裡有污漬瑕疵，已申請退貨</td>\n",
       "      <td>3.0</td>\n",
       "    </tr>\n",
       "    <tr>\n",
       "      <th>16851</th>\n",
       "      <td>也許是成份的因素吧？襪子外觀看起來毛很多。白襪還有兩條粗藍線，與圖片差很多；另外，其中一隻藍...</td>\n",
       "      <td>2.0</td>\n",
       "    </tr>\n",
       "    <tr>\n",
       "      <th>16852</th>\n",
       "      <td>鞋舌很大，不太習慣，穿起來有高個3公分，包覆感要鞋孔全穿才好一點，鞋帶不容易拉緊，鞋底支撐性...</td>\n",
       "      <td>3.0</td>\n",
       "    </tr>\n",
       "    <tr>\n",
       "      <th>16853</th>\n",
       "      <td>買貴了，昨天收到，今天就看到降價了，太誇張</td>\n",
       "      <td>4.0</td>\n",
       "    </tr>\n",
       "    <tr>\n",
       "      <th>16854</th>\n",
       "      <td>襪子材質很薄不是棉質料，很像絲襪般，但是不吸汗，穿着運動不適合</td>\n",
       "      <td>4.0</td>\n",
       "    </tr>\n",
       "  </tbody>\n",
       "</table>\n",
       "<p>16835 rows × 2 columns</p>\n",
       "</div>"
      ],
      "text/plain": [
       "                                                 Comment  rounded_rating\n",
       "1                                           商品正確、出貨快速、謝謝             5.0\n",
       "2                                           很棒棒棒棒棒棒棒棒棒棒棒             4.0\n",
       "3                                           商品出貨速度快，包裝完整             5.0\n",
       "4                            氣炸鍋贈送的盤子三個，我還沒收到請你們立刻配送給我謝謝             5.0\n",
       "5                        出貨速度快，商品無誤，包裝完整！下次有需要會再繼續回購，謝謝！             5.0\n",
       "...                                                  ...             ...\n",
       "16850                                      內裡有污漬瑕疵，已申請退貨             3.0\n",
       "16851  也許是成份的因素吧？襪子外觀看起來毛很多。白襪還有兩條粗藍線，與圖片差很多；另外，其中一隻藍...             2.0\n",
       "16852  鞋舌很大，不太習慣，穿起來有高個3公分，包覆感要鞋孔全穿才好一點，鞋帶不容易拉緊，鞋底支撐性...             3.0\n",
       "16853                              買貴了，昨天收到，今天就看到降價了，太誇張             4.0\n",
       "16854                    襪子材質很薄不是棉質料，很像絲襪般，但是不吸汗，穿着運動不適合             4.0\n",
       "\n",
       "[16835 rows x 2 columns]"
      ]
     },
     "execution_count": 39,
     "metadata": {},
     "output_type": "execute_result"
    }
   ],
   "source": [
    "du_df = df.copy()\n",
    "du_df = du_df.drop('Rating', axis=1)\n",
    "du_df"
   ]
  },
  {
   "cell_type": "code",
   "execution_count": 41,
   "id": "363d8faa-a128-478b-8a2e-4d1bf7c939a2",
   "metadata": {},
   "outputs": [
    {
     "data": {
      "text/plain": [
       "rounded_rating\n",
       "5.0    14226\n",
       "4.0     2080\n",
       "3.0      295\n",
       "2.0      144\n",
       "1.0       90\n",
       "Name: count, dtype: int64"
      ]
     },
     "execution_count": 41,
     "metadata": {},
     "output_type": "execute_result"
    }
   ],
   "source": [
    "# Count the number of each type of rating\n",
    "rating_counts = df['rounded_rating'].value_counts()\n",
    "rating_counts"
   ]
  },
  {
   "cell_type": "code",
   "execution_count": 43,
   "id": "05b225b2-af01-4ff9-99c4-6e0216ebf63c",
   "metadata": {},
   "outputs": [
    {
     "name": "stdout",
     "output_type": "stream",
     "text": [
      "sentiment\n",
      "great      14226\n",
      "neutral     2080\n",
      "bad          529\n",
      "Name: count, dtype: int64\n"
     ]
    }
   ],
   "source": [
    "cluster_to_sentiment = {\n",
    "    1: \"bad\",\n",
    "    2: \"bad\",\n",
    "    3: \"bad\",\n",
    "    4: \"neutral\",\n",
    "    5: \"great\"\n",
    "    }\n",
    "\n",
    "du_df['sentiment'] = du_df['rounded_rating'].map(cluster_to_sentiment)\n",
    "du_df = du_df.drop('rounded_rating', axis=1)\n",
    "category_counts = du_df['sentiment'].value_counts()\n",
    "print(category_counts)"
   ]
  },
  {
   "cell_type": "code",
   "execution_count": 49,
   "id": "4ce1d376-e461-47ae-9fea-12612f190ab9",
   "metadata": {},
   "outputs": [
    {
     "data": {
      "image/png": "[encoded data removed]",
      "text/plain": [
       "<Figure size 800x600 with 1 Axes>"
      ]
     },
     "metadata": {},
     "output_type": "display_data"
    }
   ],
   "source": [
    "import matplotlib.pyplot as plt\n",
    "\n",
    "fig, ax = plt.subplots(figsize=(8, 6))\n",
    "category_counts.plot(kind='bar', color=['blue', 'green', 'red'], ax=ax)\n",
    "\n",
    "# Labels and title\n",
    "ax.set_xlabel('Category')\n",
    "ax.set_ylabel('Count')\n",
    "ax.set_title('Bar Plot of Three Categories')\n",
    "\n",
    "# Rotate the x-axis Labels\n",
    "plt.xticks(rotation=45)\n",
    "\n",
    "plt.show()"
   ]
  },
  {
   "cell_type": "code",
   "execution_count": null,
   "id": "3d84f535-0fa0-478f-be2b-a461356d622b",
   "metadata": {},
   "outputs": [],
   "source": []
  }
 ],
 "metadata": {
  "kernelspec": {
   "display_name": "Python 3 (ipykernel)",
   "language": "python",
   "name": "python3"
  },
  "language_info": {
   "codemirror_mode": {
    "name": "ipython",
    "version": 3
   },
   "file_extension": ".py",
   "mimetype": "text/x-python",
   "name": "python",
   "nbconvert_exporter": "python",
   "pygments_lexer": "ipython3",
   "version": "3.12.4"
  }
 },
 "nbformat": 4,
 "nbformat_minor": 5
}
